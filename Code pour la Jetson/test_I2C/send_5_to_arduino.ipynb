{
 "cells": [
  {
   "cell_type": "code",
   "execution_count": 1,
   "id": "7e2379a1-656e-4165-a35b-7af8b8dbbca2",
   "metadata": {},
   "outputs": [],
   "source": [
    "import smbus\n",
    " \n",
    "bus = smbus.SMBus(0)\n",
    "adresse = 0x55\n",
    "bus.write_byte(adresse,5)"
   ]
  },
  {
   "cell_type": "code",
   "execution_count": 1,
   "id": "1debfdc5-74cc-4ae9-96e6-bc649a2b4727",
   "metadata": {},
   "outputs": [
    {
     "ename": "ModuleNotFoundError",
     "evalue": "No module named 'smbus'",
     "output_type": "error",
     "traceback": [
      "\u001b[0;31m---------------------------------------------------------------------------\u001b[0m",
      "\u001b[0;31mModuleNotFoundError\u001b[0m                       Traceback (most recent call last)",
      "\u001b[0;32m<ipython-input-1-1ce1ea9aacf2>\u001b[0m in \u001b[0;36m<module>\u001b[0;34m\u001b[0m\n\u001b[0;32m----> 1\u001b[0;31m \u001b[0;32mimport\u001b[0m \u001b[0msmbus\u001b[0m\u001b[0;34m\u001b[0m\u001b[0;34m\u001b[0m\u001b[0m\n\u001b[0m",
      "\u001b[0;31mModuleNotFoundError\u001b[0m: No module named 'smbus'"
     ]
    }
   ],
   "source": [
    "import smbus"
   ]
  },
  {
   "cell_type": "code",
   "execution_count": 8,
   "id": "be0d57e3-be23-4195-bcbf-6fe30dc710c5",
   "metadata": {},
   "outputs": [
    {
     "ename": "SyntaxError",
     "evalue": "invalid syntax (<ipython-input-8-b5ef680e2aa1>, line 1)",
     "output_type": "error",
     "traceback": [
      "\u001b[0;36m  File \u001b[0;32m\"<ipython-input-8-b5ef680e2aa1>\"\u001b[0;36m, line \u001b[0;32m1\u001b[0m\n\u001b[0;31m    zip -r classification.zip classification\u001b[0m\n\u001b[0m                        ^\u001b[0m\n\u001b[0;31mSyntaxError\u001b[0m\u001b[0;31m:\u001b[0m invalid syntax\n"
     ]
    }
   ],
   "source": [
    "zip -r classification.zip classification"
   ]
  },
  {
   "cell_type": "code",
   "execution_count": null,
   "id": "0815fbaa-d536-4962-b037-7df722ead934",
   "metadata": {},
   "outputs": [],
   "source": []
  }
 ],
 "metadata": {
  "kernelspec": {
   "display_name": "Python 3",
   "language": "python",
   "name": "python3"
  },
  "language_info": {
   "codemirror_mode": {
    "name": "ipython",
    "version": 3
   },
   "file_extension": ".py",
   "mimetype": "text/x-python",
   "name": "python",
   "nbconvert_exporter": "python",
   "pygments_lexer": "ipython3",
   "version": "3.6.9"
  }
 },
 "nbformat": 4,
 "nbformat_minor": 5
}
