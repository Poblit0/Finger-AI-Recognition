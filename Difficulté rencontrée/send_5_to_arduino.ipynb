{
 "cells": [
  {
   "cell_type": "code",
   "execution_count": 1,
   "id": "7e2379a1-656e-4165-a35b-7af8b8dbbca2",
   "metadata": {},
   "outputs": [],
   "source": [
    "import smbus\n",
    " \n",
    "bus = smbus.SMBus(0)\n",
    "adresse = 0x55\n",
    "bus.write_byte(adresse,5)"
   ]
  }
 ],
 "metadata": {
  "kernelspec": {
   "display_name": "Python 3",
   "language": "python",
   "name": "python3"
  },
  "language_info": {
   "codemirror_mode": {
    "name": "ipython",
    "version": 3
   },
   "file_extension": ".py",
   "mimetype": "text/x-python",
   "name": "python",
   "nbconvert_exporter": "python",
   "pygments_lexer": "ipython3",
   "version": "3.6.9"
  }
 },
 "nbformat": 4,
 "nbformat_minor": 5
}
